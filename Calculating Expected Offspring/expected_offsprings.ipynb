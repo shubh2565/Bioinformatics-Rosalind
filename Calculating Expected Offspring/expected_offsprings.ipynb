{
  "nbformat": 4,
  "nbformat_minor": 0,
  "metadata": {
    "colab": {
      "name": "expected_offsprings.ipynb",
      "provenance": []
    },
    "kernelspec": {
      "name": "python3",
      "display_name": "Python 3"
    }
  },
  "cells": [
    {
      "cell_type": "markdown",
      "metadata": {
        "id": "djLTCbsa2xqJ",
        "colab_type": "text"
      },
      "source": [
        "Genotypes:\n",
        "\n",
        "\n",
        "    AA-AA\n",
        "    AA-Aa\n",
        "    AA-aa\n",
        "    Aa-Aa\n",
        "    Aa-aa\n",
        "    aa-aa\n"
      ]
    },
    {
      "cell_type": "code",
      "metadata": {
        "id": "YZkCDWPC2LN1",
        "colab_type": "code",
        "colab": {
          "base_uri": "https://localhost:8080/",
          "height": 156
        },
        "outputId": "14f05310-39b6-40f2-e9bf-44787ba4dcc3"
      },
      "source": [
        "print('Enter the list of numbers representing the six genotypes: ')\n",
        "\n",
        "x = []\n",
        "\n",
        "for i in range(6):\n",
        "  a = int(input())\n",
        "  x.append(a)\n",
        "\n",
        "print(x)"
      ],
      "execution_count": 21,
      "outputs": [
        {
          "output_type": "stream",
          "text": [
            "Enter the list of numbers representing the six genotypes: \n",
            "1\n",
            "0\n",
            "0\n",
            "1\n",
            "0\n",
            "1\n",
            "[1, 0, 0, 1, 0, 1]\n"
          ],
          "name": "stdout"
        }
      ]
    },
    {
      "cell_type": "code",
      "metadata": {
        "id": "ADIDMfh426be",
        "colab_type": "code",
        "colab": {
          "base_uri": "https://localhost:8080/",
          "height": 52
        },
        "outputId": "081580c9-7d5b-447d-daab-7d5ae6f09203"
      },
      "source": [
        "print(x)\n",
        "\n",
        "offspring = 0\n",
        "\n",
        "prob_dominant = [1.0, 1.0, 1.0, 0.75, 0.5, 0]\n",
        "\n",
        "for i in range(len(x)):\n",
        "  offspring += 2*prob_dominant[i]*x[i]\n",
        "\n",
        "print('The expected number of offspring displaying the dominant phenotype:',offspring)\n"
      ],
      "execution_count": 24,
      "outputs": [
        {
          "output_type": "stream",
          "text": [
            "[1, 0, 0, 1, 0, 1]\n",
            "The expected number of offspring displaying the dominant phenotype: 3.5\n"
          ],
          "name": "stdout"
        }
      ]
    }
  ]
}