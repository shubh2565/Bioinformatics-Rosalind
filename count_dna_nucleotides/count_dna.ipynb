{
  "nbformat": 4,
  "nbformat_minor": 0,
  "metadata": {
    "colab": {
      "name": "count_dna.ipynb",
      "provenance": []
    },
    "kernelspec": {
      "name": "python3",
      "display_name": "Python 3"
    }
  },
  "cells": [
    {
      "cell_type": "code",
      "metadata": {
        "id": "eH-xg_SfELlU",
        "colab_type": "code",
        "outputId": "2f78ea6d-4e9f-4103-c69b-0b4807883681",
        "colab": {
          "base_uri": "https://localhost:8080/",
          "height": 72
        }
      },
      "source": [
        "#dna = 'AGCTTTTCATTCTGACTGCAACGGGCAATATGTCTCTGTGTGGATTAAAAAAAGAGTGTCTGATAGCAGC'\n",
        "\n",
        "dna = open(\"rosalind_dna.txt\")\n",
        "dna = dna.read()\n",
        "print(dna)\n",
        "\n"
      ],
      "execution_count": 11,
      "outputs": [
        {
          "output_type": "stream",
          "text": [
            "AAGGCTACCAAACCGCTGTACTAGCGGGCGCTAAGACATCTAAGTAAAAATCCAGGGATTATGCTCGGCGCTAACGGGCATGTGGCGTACTCAACCGCGCTCCTTGCATTGACCAGTGTGCAATGACTCTTAGGGGTAATTAGTTCCAACAGCCGCAACGAGACGTCACGGAAACTTACTGTAGCCGCCCGCCTAGCCAACAAGTCGCGGCGGCCTTCCGTATATGTTTGTCCCTAACCGCAAGTTAGGAAGGGACACGCAGCTGGCTCAGGTAGGGAAGGAAGACTCGCAAGTGGACCCACTACGCGCGCCTCACAACTACGGCGCTCTGCGGCAAGCAGGTCGGGGCAGCGATAATACGAAAGAATGATAGCAAAGAGCATGACCAATAACCGTAGCCGATAATTCCGAGCCGGCTTACGCTGCCAGCAGTGCTTTCCGGTAAACGTATAACATGCCGCTAGGAGCCCGATAAATTCCACCCTTGGTTCGTATAAAAGCTATGGAAATAGAGGTTGGGATGCGGGACAAGTAAGATTAAAATTAGGCTTTGTATACTAAACGACTCGCCAATTCGAGAGAGTGAGACGTAATCAATGGTCGCAGATATGAGACTCACAAACTATAAATGCATGGGTCCTGCCACACCACCAAACAGGTCAATTCGAGTAATGCTCCCGCGCAAGACAATATCCACGGTCAACCAGTGTGAAGTTCAGGGCGTTATGGCAGGCGGCTCGGCGTGATGTATGAAGACCCATTCGGGGATCAGTTATGAGCATGGCCTGCAAAAGGCATAGAACTATAGCGCTCGAAAAAACACTAATATGCCGAGTTGCACAAGTGTACAGATCATGGGAATCTTACAGTTGTTTTCCTACACAAACGACAAGTACGTAAGGGCCTTCGATGCCGACTATGGCGGTCTAAGAAAGCACAGTACACTCTCGACACCGTCGAC\n",
            "\n"
          ],
          "name": "stdout"
        }
      ]
    },
    {
      "cell_type": "code",
      "metadata": {
        "id": "US6cdzAOGWtV",
        "colab_type": "code",
        "outputId": "6835f4a6-4631-44d4-c965-22bef8a29f6f",
        "colab": {
          "base_uri": "https://localhost:8080/",
          "height": 34
        }
      },
      "source": [
        "count = [0, 0, 0, 0]\n",
        "\n",
        "for i in range(len(dna)):\n",
        "  if dna[i] is 'A':\n",
        "    count[0] += 1\n",
        "  elif dna[i] is 'C':\n",
        "    count[1] += 1\n",
        "  elif dna[i] is 'G':\n",
        "    count[2] += 1\n",
        "  elif dna[i] is 'T':\n",
        "    count[3] += 1\n",
        "\n",
        "for n in count:\n",
        "  print(n, end=\" \")"
      ],
      "execution_count": 12,
      "outputs": [
        {
          "output_type": "stream",
          "text": [
            "281 239 247 195 "
          ],
          "name": "stdout"
        }
      ]
    }
  ]
}
