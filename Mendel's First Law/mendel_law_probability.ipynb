{
  "nbformat": 4,
  "nbformat_minor": 0,
  "metadata": {
    "colab": {
      "name": "mendel_law_probability.ipynb",
      "provenance": []
    },
    "kernelspec": {
      "name": "python3",
      "display_name": "Python 3"
    }
  },
  "cells": [
    {
      "cell_type": "code",
      "metadata": {
        "id": "e9OuoaW-Fi18",
        "colab_type": "code",
        "colab": {
          "base_uri": "https://localhost:8080/",
          "height": 69
        },
        "outputId": "9ae6ce3f-ead7-40e0-d2c2-f1ca628a2db2"
      },
      "source": [
        "k = int(input('Enter the number of individuals which are homozygous dominant for a factor (k):'))\n",
        "m = int(input('Enter the number of individuals which are heterozygous (m):'))\n",
        "n = int(input('Enter the number of individuals which are homozygous recessive for a factor (n):'))"
      ],
      "execution_count": 8,
      "outputs": [
        {
          "output_type": "stream",
          "text": [
            "Enter the number of individuals which are homozygous dominant for a factor (k):2\n",
            "Enter the number of individuals which are heterozygous (m):2\n",
            "Enter the number of individuals which are homozygous recessive for a factor (n):2\n"
          ],
          "name": "stdout"
        }
      ]
    },
    {
      "cell_type": "code",
      "metadata": {
        "id": "0i1G-AhoGiOB",
        "colab_type": "code",
        "colab": {
          "base_uri": "https://localhost:8080/",
          "height": 34
        },
        "outputId": "3bff95bf-1e01-4830-ae33-4a764d156353"
      },
      "source": [
        "total = k + m + n\n",
        "\n",
        "# Total probability - (probability of having both homozygous recessive individual*probability of not passing a dominant allele +\n",
        "#                      probabilty of having one homozygous recessive individual and one hetrozygous individual*probability of not passing a dominant allele\n",
        "#                      probability of having both heterozygous individual*probability of not passing a dominant allele)\n",
        "\n",
        "prob = 1 - ((n/total)*((n-1)/(total-1)) + \n",
        "            2*(n/total)*(m/(total-1))*0.5 + \n",
        "            (m/total)*((m-1)/(total-1))*0.25)\n",
        "\n",
        "print('The probability that two randomly selected mating organisms will produce an individual possessing a dominant allele:', prob)"
      ],
      "execution_count": 9,
      "outputs": [
        {
          "output_type": "stream",
          "text": [
            "The probability that two randomly selected mating organisms will produce an individual possessing a dominant allele: 0.7833333333333333\n"
          ],
          "name": "stdout"
        }
      ]
    }
  ]
}