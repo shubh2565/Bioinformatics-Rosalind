{
  "nbformat": 4,
  "nbformat_minor": 0,
  "metadata": {
    "colab": {
      "name": "motifDNA.ipynb",
      "provenance": []
    },
    "kernelspec": {
      "name": "python3",
      "display_name": "Python 3"
    }
  },
  "cells": [
    {
      "cell_type": "code",
      "metadata": {
        "id": "lkYWj5e4X_AK",
        "colab_type": "code",
        "colab": {}
      },
      "source": [
        "s = 'GATATATGAGTATATGCCAGGCCATATAGCGGTCACTTATATATA'\n",
        "t = 'ATAT'"
      ],
      "execution_count": 0,
      "outputs": []
    },
    {
      "cell_type": "code",
      "metadata": {
        "id": "ax9H7axXYP3Q",
        "colab_type": "code",
        "colab": {
          "base_uri": "https://localhost:8080/",
          "height": 139
        },
        "outputId": "1c8bc389-0d67-45f2-bd14-33e1aa651b9f"
      },
      "source": [
        "print('Locations of motif ' + t + ' in the given sequence :')\n",
        "\n",
        "for i in range(len(s) - len(t) + 1):\n",
        "  if s[i:i+len(t)] == t:\n",
        "    print(i + 1)"
      ],
      "execution_count": 16,
      "outputs": [
        {
          "output_type": "stream",
          "text": [
            "Locations of motif ATAT in the given sequence :\n",
            "2\n",
            "4\n",
            "12\n",
            "24\n",
            "39\n",
            "41\n"
          ],
          "name": "stdout"
        }
      ]
    }
  ]
}