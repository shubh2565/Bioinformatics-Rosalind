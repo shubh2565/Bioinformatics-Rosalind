{
  "nbformat": 4,
  "nbformat_minor": 0,
  "metadata": {
    "colab": {
      "name": "fibonacci.ipynb",
      "provenance": []
    },
    "kernelspec": {
      "name": "python3",
      "display_name": "Python 3"
    }
  },
  "cells": [
    {
      "cell_type": "code",
      "metadata": {
        "id": "T4tR5msTpJxG",
        "colab_type": "code",
        "colab": {}
      },
      "source": [
        "def rabbit_pairs(n, k):\n",
        "  if n == 0:\n",
        "    return 0\n",
        "  if n == 1:\n",
        "    return 1\n",
        "  else:\n",
        "    return rabbit_pairs(n-1, k) + k*rabbit_pairs(n-2, k)\n"
      ],
      "execution_count": 0,
      "outputs": []
    },
    {
      "cell_type": "code",
      "metadata": {
        "id": "rI4rWqU2p-Kq",
        "colab_type": "code",
        "colab": {
          "base_uri": "https://localhost:8080/",
          "height": 52
        },
        "outputId": "599a4bcd-f07d-4547-a44c-95264510b325"
      },
      "source": [
        "n = int(input('Enter the value of n (months): '))\n",
        "k = int(input('Enter the value of k (no of rabbit pairs):'))"
      ],
      "execution_count": 17,
      "outputs": [
        {
          "output_type": "stream",
          "text": [
            "Enter the value of n (months): 5\n",
            "Enter the value of k (no of rabbit pairs):3\n"
          ],
          "name": "stdout"
        }
      ]
    },
    {
      "cell_type": "code",
      "metadata": {
        "id": "GzDu4FUTqYFS",
        "colab_type": "code",
        "colab": {
          "base_uri": "https://localhost:8080/",
          "height": 34
        },
        "outputId": "c35b461c-5272-43d0-fab5-8b15237b9acb"
      },
      "source": [
        "ans = rabbit_pairs(n, k)\n",
        "print('Total number of rabbit pairs: ', ans)"
      ],
      "execution_count": 18,
      "outputs": [
        {
          "output_type": "stream",
          "text": [
            "Total number of rabbit pairs:  19\n"
          ],
          "name": "stdout"
        }
      ]
    }
  ]
}