{
  "nbformat": 4,
  "nbformat_minor": 0,
  "metadata": {
    "colab": {
      "name": "RNAtoProtein.ipynb",
      "provenance": []
    },
    "kernelspec": {
      "name": "python3",
      "display_name": "Python 3"
    }
  },
  "cells": [
    {
      "cell_type": "code",
      "metadata": {
        "id": "olVQ6DsKZpj5",
        "colab_type": "code",
        "colab": {
          "base_uri": "https://localhost:8080/",
          "height": 34
        },
        "outputId": "e9ad1efb-8f7d-42e7-aafd-adb77f3787a9"
      },
      "source": [
        "rna = 'AUGGCCAUGGCGCCCAGAACUGAGAUCAAUAGUACCCGUAUUAACGGGUGA'\n",
        "\n",
        "conversion_dict = {'UUU': 'F',      'CUU': 'L',     'AUU': 'I',      'GUU': 'V',\n",
        "'UUC': 'F',      'CUC': 'L',      'AUC': 'I',      'GUC': 'V',\n",
        "'UUA': 'L',      'CUA': 'L',      'AUA': 'I',      'GUA': 'V',\n",
        "'UUG': 'L',      'CUG': 'L',      'AUG': 'M',      'GUG': 'V',\n",
        "'UCU': 'S',      'CCU': 'P',      'ACU': 'T',      'GCU': 'A',\n",
        "'UCC': 'S',      'CCC': 'P',      'ACC': 'T',      'GCC': 'A',\n",
        "'UCA': 'S',      'CCA': 'P',      'ACA': 'T',      'GCA': 'A',\n",
        "'UCG': 'S',      'CCG': 'P',      'ACG': 'T',      'GCG': 'A',\n",
        "'UAU': 'Y',      'CAU': 'H',      'AAU': 'N',      'GAU': 'D',\n",
        "'UAC': 'Y',      'CAC': 'H',      'AAC': 'N',      'GAC': 'D',\n",
        "'UAA': '',       'CAA': 'Q',      'AAA': 'K',      'GAA': 'E',\n",
        "'UAG': '',       'CAG': 'Q',      'AAG': 'K',      'GAG': 'E',\n",
        "'UGU': 'C',      'CGU': 'R',      'AGU': 'S',      'GGU': 'G',\n",
        "'UGC': 'C',      'CGC': 'R',      'AGC': 'S',      'GGC': 'G',\n",
        "'UGA': '',       'CGA': 'R',      'AGA': 'R',      'GGA': 'G',\n",
        "'UGG': 'W',      'CGG': 'R',      'AGG': 'R',      'GGG': 'G' }\n",
        "\n",
        "protein = ''\n",
        "i = 0\n",
        "\n",
        "for j in range(len(rna)):\n",
        "  if conversion_dict[rna[i:i+3]] is '':\n",
        "    break\n",
        "  protein += conversion_dict[rna[i:i+3]]\n",
        "  i = i+3\n",
        "\n",
        "print('Translated protein:',protein)"
      ],
      "execution_count": 13,
      "outputs": [
        {
          "output_type": "stream",
          "text": [
            "Translated protein: MAMAPRTEINSTRING\n"
          ],
          "name": "stdout"
        }
      ]
    }
  ]
}