{
  "nbformat": 4,
  "nbformat_minor": 0,
  "metadata": {
    "colab": {
      "name": "consensus.ipynb",
      "provenance": []
    },
    "kernelspec": {
      "name": "python3",
      "display_name": "Python 3"
    }
  },
  "cells": [
    {
      "cell_type": "code",
      "metadata": {
        "id": "bL8q_VNRVogz",
        "colab_type": "code",
        "colab": {}
      },
      "source": [
        "dna_dict = {}\n",
        "\n",
        "with open('rosalind.txt') as f:\n",
        "  for line in f:\n",
        "    if '>Rosalind' in line:\n",
        "      key = line.strip()[1:]\n",
        "      dna_dict[key] = \"\"\n",
        "    else:\n",
        "      dna_dict[key] += line.strip()"
      ],
      "execution_count": 0,
      "outputs": []
    },
    {
      "cell_type": "code",
      "metadata": {
        "id": "jq2yiR82u-3o",
        "colab_type": "code",
        "colab": {
          "base_uri": "https://localhost:8080/",
          "height": 34
        },
        "outputId": "fcc4cb43-3aa0-4726-9493-1bebb647d7b5"
      },
      "source": [
        "dna_list = []\n",
        "\n",
        "for key, values in dna_dict.items():\n",
        "  dna_list.append(values)\n",
        "\n",
        "print(dna_list)"
      ],
      "execution_count": 18,
      "outputs": [
        {
          "output_type": "stream",
          "text": [
            "['ATCCAGCT', 'GGGCAACT', 'ATGGATCT', 'AAGCAACC', 'TTGGAACT', 'ATGCCATT', 'ATGGCACT']\n"
          ],
          "name": "stdout"
        }
      ]
    },
    {
      "cell_type": "code",
      "metadata": {
        "id": "K-f64iyuwHQy",
        "colab_type": "code",
        "colab": {
          "base_uri": "https://localhost:8080/",
          "height": 104
        },
        "outputId": "03030a53-a4d6-48c4-f1b3-1a39a278cdf3"
      },
      "source": [
        "import numpy as np\n",
        "\n",
        "profile = np.zeros((4, len(dna_list[0])))\n",
        "\n",
        "for seq in dna_list:\n",
        "  for i in range(len(seq)):\n",
        "    if seq[i] == 'A':\n",
        "      profile[0][i] += 1\n",
        "    elif seq[i] == 'C':\n",
        "      profile[1][i] += 1\n",
        "    elif seq[i] == 'G':\n",
        "      profile[2][i] += 1\n",
        "    else:\n",
        "      profile[3][i] += 1\n",
        "\n",
        "print('Profile Matrix:\\n',profile)"
      ],
      "execution_count": 24,
      "outputs": [
        {
          "output_type": "stream",
          "text": [
            "Profile Matrix:\n",
            " [[5. 1. 0. 0. 5. 5. 0. 0.]\n",
            " [0. 0. 1. 4. 2. 0. 6. 1.]\n",
            " [1. 1. 6. 3. 0. 1. 0. 0.]\n",
            " [1. 5. 0. 0. 0. 1. 1. 6.]]\n"
          ],
          "name": "stdout"
        }
      ]
    },
    {
      "cell_type": "code",
      "metadata": {
        "id": "EpPrZQQKyNWM",
        "colab_type": "code",
        "colab": {
          "base_uri": "https://localhost:8080/",
          "height": 34
        },
        "outputId": "423c4d84-0d31-4dc4-9f8e-97dd0bcba101"
      },
      "source": [
        "consensus_arg = np.argmax(profile, axis = 0)\n",
        "\n",
        "consensus = ''\n",
        "\n",
        "for i in consensus_arg:\n",
        "  if i == 0:\n",
        "    consensus += 'A'\n",
        "  elif i == 1:\n",
        "    consensus += 'C'\n",
        "  elif i == 2:\n",
        "    consensus += 'G'\n",
        "  else:\n",
        "    consensus += 'T'\n",
        "\n",
        "print('Consensus String:',consensus)"
      ],
      "execution_count": 25,
      "outputs": [
        {
          "output_type": "stream",
          "text": [
            "Consensus String: ATGCAACT\n"
          ],
          "name": "stdout"
        }
      ]
    }
  ]
}